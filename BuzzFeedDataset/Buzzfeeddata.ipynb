{
  "nbformat": 4,
  "nbformat_minor": 0,
  "metadata": {
    "colab": {
      "name": "Buzzfeeddata.ipynb",
      "provenance": []
    },
    "kernelspec": {
      "name": "python3",
      "display_name": "Python 3"
    }
  },
  "cells": [
    {
      "cell_type": "code",
      "metadata": {
        "id": "1njcqZJzQi-l",
        "colab_type": "code",
        "colab": {}
      },
      "source": [
        "import pandas as pd\n",
        "import matplotlib.pyplot as plt"
      ],
      "execution_count": 0,
      "outputs": []
    },
    {
      "cell_type": "code",
      "metadata": {
        "id": "3WzE1NB2QkIl",
        "colab_type": "code",
        "colab": {}
      },
      "source": [
        "data = pd.read_csv(\"facebook-fact-check.csv\")"
      ],
      "execution_count": 0,
      "outputs": []
    },
    {
      "cell_type": "code",
      "metadata": {
        "id": "4YlpVkZWQw0b",
        "colab_type": "code",
        "colab": {
          "base_uri": "https://localhost:8080/",
          "height": 210
        },
        "outputId": "3cf632f2-a938-4b5d-cda6-d39f98ce561d"
      },
      "source": [
        "data.head(2)"
      ],
      "execution_count": 4,
      "outputs": [
        {
          "output_type": "execute_result",
          "data": {
            "text/html": [
              "<div>\n",
              "<style scoped>\n",
              "    .dataframe tbody tr th:only-of-type {\n",
              "        vertical-align: middle;\n",
              "    }\n",
              "\n",
              "    .dataframe tbody tr th {\n",
              "        vertical-align: top;\n",
              "    }\n",
              "\n",
              "    .dataframe thead th {\n",
              "        text-align: right;\n",
              "    }\n",
              "</style>\n",
              "<table border=\"1\" class=\"dataframe\">\n",
              "  <thead>\n",
              "    <tr style=\"text-align: right;\">\n",
              "      <th></th>\n",
              "      <th>account_id</th>\n",
              "      <th>post_id</th>\n",
              "      <th>Category</th>\n",
              "      <th>Page</th>\n",
              "      <th>Post URL</th>\n",
              "      <th>Date Published</th>\n",
              "      <th>Post Type</th>\n",
              "      <th>Rating</th>\n",
              "      <th>Debate</th>\n",
              "      <th>share_count</th>\n",
              "      <th>reaction_count</th>\n",
              "      <th>comment_count</th>\n",
              "    </tr>\n",
              "  </thead>\n",
              "  <tbody>\n",
              "    <tr>\n",
              "      <th>0</th>\n",
              "      <td>184096565021911</td>\n",
              "      <td>1035057923259100</td>\n",
              "      <td>mainstream</td>\n",
              "      <td>ABC News Politics</td>\n",
              "      <td>https://www.facebook.com/ABCNewsPolitics/posts...</td>\n",
              "      <td>2016-09-19</td>\n",
              "      <td>video</td>\n",
              "      <td>no factual content</td>\n",
              "      <td>NaN</td>\n",
              "      <td>NaN</td>\n",
              "      <td>146.0</td>\n",
              "      <td>15.0</td>\n",
              "    </tr>\n",
              "    <tr>\n",
              "      <th>1</th>\n",
              "      <td>184096565021911</td>\n",
              "      <td>1035269309904628</td>\n",
              "      <td>mainstream</td>\n",
              "      <td>ABC News Politics</td>\n",
              "      <td>https://www.facebook.com/ABCNewsPolitics/posts...</td>\n",
              "      <td>2016-09-19</td>\n",
              "      <td>link</td>\n",
              "      <td>mostly true</td>\n",
              "      <td>NaN</td>\n",
              "      <td>1.0</td>\n",
              "      <td>33.0</td>\n",
              "      <td>34.0</td>\n",
              "    </tr>\n",
              "  </tbody>\n",
              "</table>\n",
              "</div>"
            ],
            "text/plain": [
              "        account_id           post_id  ... reaction_count comment_count\n",
              "0  184096565021911  1035057923259100  ...          146.0          15.0\n",
              "1  184096565021911  1035269309904628  ...           33.0          34.0\n",
              "\n",
              "[2 rows x 12 columns]"
            ]
          },
          "metadata": {
            "tags": []
          },
          "execution_count": 4
        }
      ]
    },
    {
      "cell_type": "code",
      "metadata": {
        "id": "R5t7_VyfRCk5",
        "colab_type": "code",
        "colab": {
          "base_uri": "https://localhost:8080/",
          "height": 395
        },
        "outputId": "e162cd25-e819-4d53-866f-c09d97109c4c"
      },
      "source": [
        "data.Rating.value_counts().plot(kind = 'bar')\n",
        "plt.title('Distribution of label')\n",
        "plt.show()"
      ],
      "execution_count": 6,
      "outputs": [
        {
          "output_type": "display_data",
          "data": {
            "image/png": "[encoded data removed]",
            "text/plain": [
              "<Figure size 432x288 with 1 Axes>"
            ]
          },
          "metadata": {
            "tags": []
          }
        }
      ]
    }
  ]
}