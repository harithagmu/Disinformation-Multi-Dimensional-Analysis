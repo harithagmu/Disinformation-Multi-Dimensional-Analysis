{
  "nbformat": 4,
  "nbformat_minor": 0,
  "metadata": {
    "colab": {
      "name": "Liar_dataset.ipynb",
      "provenance": [],
      "collapsed_sections": []
    },
    "kernelspec": {
      "name": "python3",
      "display_name": "Python 3"
    }
  },
  "cells": [
    {
      "cell_type": "code",
      "metadata": {
        "id": "g8XTT3IKINiU",
        "colab_type": "code",
        "colab": {
          "base_uri": "https://localhost:8080/",
          "height": 70
        },
        "outputId": "b16f2f7d-8dd2-452d-edc1-d50c39855c55"
      },
      "source": [
        "import pandas as pd\n",
        "import os\n",
        "from sklearn.pipeline import Pipeline\n",
        "from sklearn.feature_extraction.text import TfidfTransformer\n",
        "from sklearn.feature_extraction.text import CountVectorizer\n",
        "from sklearn.linear_model import LogisticRegression\n",
        "from sklearn.metrics import accuracy_score\n",
        "from sklearn.metrics import classification_report\n",
        "import matplotlib.pyplot as plt\n",
        "import seaborn as sns"
      ],
      "execution_count": 10,
      "outputs": [
        {
          "output_type": "stream",
          "text": [
            "/usr/local/lib/python3.6/dist-packages/statsmodels/tools/_testing.py:19: FutureWarning: pandas.util.testing is deprecated. Use the functions in the public API at pandas.testing instead.\n",
            "  import pandas.util.testing as tm\n"
          ],
          "name": "stderr"
        }
      ]
    },
    {
      "cell_type": "code",
      "metadata": {
        "id": "jsHLy8WPIt1T",
        "colab_type": "code",
        "colab": {}
      },
      "source": [
        "#This dataset has been cleaned \n",
        "train = pd.read_csv('train.tsv', sep='\\t')\n",
        "validation = pd.read_csv('valid.tsv', sep='\\t')\n",
        "colnames = ['file', 'tag', 'news', 'topic', 'speaker', 'speaker_job', 'speaker_state','speaker_party', 'ch_false','ch_barelytrue','ch_halftrue','ch_mostlytrue','ch_pantsonfire', 'Spoke_at' ]\n",
        "train.columns = colnames\n",
        "validation.columns = colnames\n",
        "train.drop('file', axis = 1, inplace = True)\n",
        "validation.drop('file', axis = 1, inplace = True)\n",
        "liardata = pd.concat([train,validation])"
      ],
      "execution_count": 0,
      "outputs": []
    },
    {
      "cell_type": "code",
      "metadata": {
        "id": "gAWDWbPmI7bx",
        "colab_type": "code",
        "colab": {
          "base_uri": "https://localhost:8080/",
          "height": 329
        },
        "outputId": "1a777026-cffa-4792-8b67-c0212b2d01e9"
      },
      "source": [
        "liardata.tag.value_counts().plot(kind = 'bar')\n",
        "plt.title('Distribution of label')\n",
        "plt.show()"
      ],
      "execution_count": 8,
      "outputs": [
        {
          "output_type": "display_data",
          "data": {
            "image/png": "[encoded data removed]",
            "text/plain": [
              "<Figure size 432x288 with 1 Axes>"
            ]
          },
          "metadata": {
            "tags": []
          }
        }
      ]
    },
    {
      "cell_type": "code",
      "metadata": {
        "id": "eKPrEadkJzNE",
        "colab_type": "code",
        "colab": {
          "base_uri": "https://localhost:8080/",
          "height": 345
        },
        "outputId": "856e67a7-ba84-40f8-e889-292dacbd7a29"
      },
      "source": [
        "#For each speaker, checking the correlation between the type of information he/she has given\n",
        "tagcounts = liardata[['ch_false','ch_barelytrue','ch_halftrue','ch_mostlytrue','ch_pantsonfire']]\n",
        "corr = tagcounts.corr()\n",
        "plt.title('Correlation between the number of times a person spoken true/false')\n",
        "sns.heatmap(corr, xticklabels=corr.columns, yticklabels=corr.columns)\n",
        "plt.show()"
      ],
      "execution_count": 13,
      "outputs": [
        {
          "output_type": "display_data",
          "data": {
            "image/png": "[encoded data removed]",
            "text/plain": [
              "<Figure size 432x288 with 2 Axes>"
            ]
          },
          "metadata": {
            "tags": []
          }
        }
      ]
    },
    {
      "cell_type": "code",
      "metadata": {
        "id": "jVGGrcwJLe5p",
        "colab_type": "code",
        "colab": {
          "base_uri": "https://localhost:8080/",
          "height": 34
        },
        "outputId": "d54dc996-f556-434b-fdeb-f1b79ad48d36"
      },
      "source": [
        "logreg = Pipeline([('vect', CountVectorizer()),\n",
        "                ('tfidf', TfidfTransformer()),\n",
        "                ('clf', LogisticRegression(n_jobs=1, C=1e5, solver = 'liblinear')),\n",
        "               ])\n",
        "\n",
        "X = train.news\n",
        "y = train.tag\n",
        "\n",
        "X_test = validation.news\n",
        "y_test = validation.tag\n",
        "\n",
        "logreg.fit(X, y)\n",
        "\n",
        "y_pred = logreg.predict(X_test)\n",
        "\n",
        "print('accuracy %s' % accuracy_score(y_pred, y_test))"
      ],
      "execution_count": 18,
      "outputs": [
        {
          "output_type": "stream",
          "text": [
            "accuracy 0.2283710054559626\n"
          ],
          "name": "stdout"
        }
      ]
    }
  ]
}